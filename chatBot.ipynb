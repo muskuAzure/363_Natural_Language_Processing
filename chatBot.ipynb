{
 "cells": [
  {
   "cell_type": "code",
   "execution_count": null,
   "metadata": {},
   "outputs": [],
   "source": [
    "# This program is \"\"\n",
    "\n",
    "# I intended this program to be chat bot to help find professor \n",
    "# it not directly tell you where the professor exactly is but guideline for you to helping finding the professor you loking for  \n",
    "\n",
    "# This is just the demo of how or feel this program should be.\n",
    "\n",
    "# When i desigh this program i use tree to show how the program should perform the post\n",
    "\n",
    "# The code may look tedious but it how the thing are // may comment this out later\n",
    "\n",
    "import re\n",
    "import random\n",
    "\n",
    "rangeToRandomNum = [1,2] \n",
    "\n",
    "print(\"Welcome to chat bot\")\n",
    "text = input(\"Can I help you?\")\n",
    " \n",
    "while( text != \"bye\" ):\n",
    "    if (re.match( r\"\\b([iI](am|'m)?|[wW]here is) ((look|search)ing for)? [mM][i|r]?s* (A-Z|a-z) (A-Z|a-z)?\\b\" , text) ):\n",
    "        chooseNum = random.choice(rangeToRandomNum)\n",
    "        match chooseNum:\n",
    "            case 1:\n",
    "                print(\"There should be Email for contact professor in the faculty web-page\")\n",
    "            case 2:\n",
    "                print(\"Have you try going to the professor room?\")\n",
    "        text = input(\"Any thing else?\")\n",
    "    elif ( re.match(\".*[EeGg](mail|MAIL).*\", text) ):\n",
    "        print(\"I see, then, you should try seek the professor at the professor room\")\n",
    "        text = input(\"Any thing else?\")\n",
    "    elif ( re.match(\".*room.*\", text) ):\n",
    "        print(\"Professor may not be avalible all the time, you should look at there teach schedule or you could just email them about the topic you need assistance with or just email to schedule you meet, that should help.\")\n",
    "        text = input(\"Any thing else?\")\n",
    "    else :\n",
    "        print(\"In that case i would recommend you yo go to faculty information deck\")\n",
    "        text = input(\"Any thing else?\")\n"
   ]
  },
  {
   "cell_type": "code",
   "execution_count": null,
   "metadata": {},
   "outputs": [],
   "source": []
  }
 ],
 "metadata": {
  "language_info": {
   "name": "python"
  }
 },
 "nbformat": 4,
 "nbformat_minor": 2
}
