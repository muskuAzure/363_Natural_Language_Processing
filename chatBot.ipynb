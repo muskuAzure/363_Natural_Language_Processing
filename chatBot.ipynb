{
 "cells": [
  {
   "cell_type": "code",
   "execution_count": 1,
   "metadata": {},
   "outputs": [],
   "source": [
    "# This my attempt for implement an ELIZA-like program after my first week learing NLP!\n",
    "\n",
    "# I intended this program to be chat bot to help find professor \n",
    "# It not directly tell you where the professor exactly is but guideline for helping you find the professor you loking for  \n",
    "\n",
    "# This is just the demo of how or feel this program should be.\n",
    "\n",
    "import re\n",
    "import random\n",
    "import sys\n",
    "\n",
    "\n",
    "rangeToRandomNum = [1,2] \n",
    "\n",
    "print(\"Welcome to chat box\")\n",
    "text = input(\"May I help you?\\n\")\n",
    " \n",
    "if( re.match(\"[nN][oO]\" , text) ) :\n",
    "   print(\"Good luck!\")\n",
    "   sys.exit(\" \")    \n",
    "\n",
    "while( not (re.match(\".*bye.*\", text))):\n",
    "    if (re.match( r\"\\b([wW]here .+)|([hH]ow.*)\" , text) ):\n",
    "        chooseNum = random.choice(rangeToRandomNum)\n",
    "        match chooseNum:\n",
    "            case 1:\n",
    "                print(\"There should be Email for contact professor in the faculty web-page.\")\n",
    "            case 2:\n",
    "                print(\"Have you try going to the professor room?\")\n",
    "        text = input(\"Any thing else?\\n\")\n",
    "    elif (re.match( \"[hH][i|(ello)].*\",text)):\n",
    "        print(\"Hello, I'm chat box that here to help you find the professor you seeking\\n\")\n",
    "        textt = input(\"What I can do to relife you\")\n",
    "    elif ( re.match(\".*[EeGg](mail|MAIL).*\", text) ):\n",
    "        print(\"I see, then, you should try seek the professor at the professor room, you can get information at the faculty information deck.\")\n",
    "        text = input(\"Any thing else?\\n\")\n",
    "    elif ( re.match(\"((.*room .*)|((yes)|(no).*))\", text) ):\n",
    "        print(\"Professor may not be avalible all the time, you should look at there teach schedule or you could just email them about the topic you need assistance with or just email to schedule you meet, that should help.\")\n",
    "        text = input(\"Any thing else?\\n\")\n",
    "    else :\n",
    "        print(\"I would recommend you, to go to faculty information deck for more information.\")\n",
    "        text = input(\"Any thing else?\\n\")\n",
    "\n",
    "print(\"Good luck!\")\n"
   ]
  },
  {
   "cell_type": "code",
   "execution_count": null,
   "metadata": {},
   "outputs": [],
   "source": []
  }
 ],
 "metadata": {
  "kernelspec": {
   "display_name": "Python 3",
   "language": "python",
   "name": "python3"
  },
  "language_info": {
   "codemirror_mode": {
    "name": "ipython",
    "version": 3
   },
   "file_extension": ".py",
   "mimetype": "text/x-python",
   "name": "python",
   "nbconvert_exporter": "python",
   "pygments_lexer": "ipython3",
   "version": "3.12.4"
  }
 },
 "nbformat": 4,
 "nbformat_minor": 2
}
