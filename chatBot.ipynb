{
 "cells": [
  {
   "cell_type": "code",
   "execution_count": null,
   "metadata": {},
   "outputs": [],
   "source": [
    "# This program is \"\"\n",
    "\n",
    "# I intended this program to encourage new comer programmer that it okay to ask for help.\n",
    "\n",
    "# This is just the demo of how or feel this program should be.\n",
    "\n",
    "import re\n",
    "\n",
    "print(\"This is \")\n",
    "text = input(\"Can I help you?: \")\n",
    "\n",
    "while(1)\n",
    "\n"
   ]
  },
  {
   "cell_type": "code",
   "execution_count": null,
   "metadata": {},
   "outputs": [],
   "source": []
  }
 ],
 "metadata": {
  "language_info": {
   "name": "python"
  }
 },
 "nbformat": 4,
 "nbformat_minor": 2
}
